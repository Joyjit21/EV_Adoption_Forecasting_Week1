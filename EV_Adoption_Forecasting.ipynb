{
  "cells": [
    {
      "cell_type": "markdown",
      "metadata": {
        "id": "view-in-github",
        "colab_type": "text"
      },
      "source": [
        "<a href=\"https://colab.research.google.com/github/Joyjit21/EV_Adoption_Forecasting_Week1/blob/main/EV_Adoption_Forecasting.ipynb\" target=\"_parent\"><img src=\"https://colab.research.google.com/assets/colab-badge.svg\" alt=\"Open In Colab\"/></a>"
      ]
    },
    {
      "cell_type": "markdown",
      "id": "b2432354",
      "metadata": {
        "id": "b2432354"
      },
      "source": [
        "## EV Adoption Forecasting\n",
        "As electric vehicle (EV) adoption surges, urban planners need to anticipate infrastructure needs—especially charging stations.\n",
        "\n",
        "**Problem Statement:**  \n",
        "Using the electric vehicle dataset, create a model to forecast future EV adoption. Predict the number of electric vehicles in upcoming years based on the trends in the data.\n",
        "\n",
        "**Goal:**  \n",
        "Build a regression model that forecasts future EV adoption demand based on historical trends in EV growth, types of vehicles, and regional data.\n",
        "\n",
        "**Dataset:**  \n",
        "Registered EVs by county and month, provided by the Washington State Department of Licensing."
      ]
    },
    {
      "cell_type": "markdown",
      "id": "818b1fa3",
      "metadata": {
        "id": "818b1fa3"
      },
      "source": [
        "### Import Required Libraries"
      ]
    },
    {
      "cell_type": "code",
      "execution_count": null,
      "id": "4e64b672",
      "metadata": {
        "id": "4e64b672"
      },
      "outputs": [],
      "source": [
        "import numpy as np\n",
        "import pandas as pd\n",
        "import seaborn as sns\n",
        "import matplotlib.pyplot as plt\n",
        "from sklearn.model_selection import train_test_split\n",
        "from sklearn.ensemble import RandomForestRegressor\n",
        "from sklearn.metrics import mean_squared_error, mean_absolute_error, r2_score"
      ]
    },
    {
      "cell_type": "markdown",
      "id": "bee90e73",
      "metadata": {
        "id": "bee90e73"
      },
      "source": [
        "### Load Dataset"
      ]
    },
    {
      "cell_type": "code",
      "execution_count": null,
      "id": "6be6b186",
      "metadata": {
        "id": "6be6b186"
      },
      "outputs": [],
      "source": [
        "df = pd.read_csv(\"Electric_Vehicle_Population_By_County.csv\")\n",
        "df['Date'] = pd.to_datetime(df['Date'])\n",
        "df.head()"
      ]
    },
    {
      "cell_type": "code",
      "execution_count": null,
      "id": "ce408a69",
      "metadata": {
        "id": "ce408a69"
      },
      "outputs": [],
      "source": [
        "print(\"Shape:\", df.shape)\n",
        "print(df.info())"
      ]
    },
    {
      "cell_type": "markdown",
      "id": "e4f22859",
      "metadata": {
        "id": "e4f22859"
      },
      "source": [
        "### Check for Missing Values"
      ]
    },
    {
      "cell_type": "code",
      "execution_count": null,
      "id": "543e5d81",
      "metadata": {
        "id": "543e5d81"
      },
      "outputs": [],
      "source": [
        "df.isnull().sum()"
      ]
    },
    {
      "cell_type": "markdown",
      "id": "7b872540",
      "metadata": {
        "id": "7b872540"
      },
      "source": [
        "### Outlier Detection"
      ]
    },
    {
      "cell_type": "code",
      "execution_count": null,
      "id": "003348fb",
      "metadata": {
        "id": "003348fb"
      },
      "outputs": [],
      "source": [
        "Q1 = df['Percent Electric Vehicles'].quantile(0.25)\n",
        "Q3 = df['Percent Electric Vehicles'].quantile(0.75)\n",
        "IQR = Q3 - Q1\n",
        "lower_bound = Q1 - 1.5 * IQR\n",
        "upper_bound = Q3 + 1.5 * IQR\n",
        "outliers = df[(df['Percent Electric Vehicles'] < lower_bound) | (df['Percent Electric Vehicles'] > upper_bound)]\n",
        "print(\"Number of outliers:\", outliers.shape[0])"
      ]
    },
    {
      "cell_type": "markdown",
      "id": "e19858d7",
      "metadata": {
        "id": "e19858d7"
      },
      "source": [
        "### Outlier Capping"
      ]
    },
    {
      "cell_type": "code",
      "execution_count": null,
      "id": "16584c58",
      "metadata": {
        "id": "16584c58"
      },
      "outputs": [],
      "source": [
        "df['Percent Electric Vehicles'] = np.where(df['Percent Electric Vehicles'] > upper_bound, upper_bound,\n",
        "                                  np.where(df['Percent Electric Vehicles'] < lower_bound, lower_bound, df['Percent Electric Vehicles']))"
      ]
    },
    {
      "cell_type": "markdown",
      "id": "8267224e",
      "metadata": {
        "id": "8267224e"
      },
      "source": [
        "### Feature Engineering"
      ]
    },
    {
      "cell_type": "code",
      "execution_count": null,
      "id": "e0ad9fcb",
      "metadata": {
        "id": "e0ad9fcb"
      },
      "outputs": [],
      "source": [
        "df['Year'] = df['Date'].dt.year\n",
        "df['Month'] = df['Date'].dt.month\n",
        "X = df[['Year', 'Month']]\n",
        "y = df['Electric Vehicle (EV) Total']"
      ]
    },
    {
      "cell_type": "markdown",
      "id": "a49b7a34",
      "metadata": {
        "id": "a49b7a34"
      },
      "source": [
        "### Train-Test Split and Model Training"
      ]
    },
    {
      "cell_type": "code",
      "execution_count": null,
      "id": "dd7d731e",
      "metadata": {
        "id": "dd7d731e"
      },
      "outputs": [],
      "source": [
        "X_train, X_test, y_train, y_test = train_test_split(X, y, test_size=0.2, random_state=42)\n",
        "model = RandomForestRegressor()\n",
        "model.fit(X_train, y_train)"
      ]
    },
    {
      "cell_type": "markdown",
      "id": "a6bc7eb2",
      "metadata": {
        "id": "a6bc7eb2"
      },
      "source": [
        "### Model Evaluation"
      ]
    },
    {
      "cell_type": "code",
      "execution_count": null,
      "id": "5f7a41ee",
      "metadata": {
        "id": "5f7a41ee"
      },
      "outputs": [],
      "source": [
        "y_pred = model.predict(X_test)\n",
        "print(\"MAE:\", mean_absolute_error(y_test, y_pred))\n",
        "print(\"MSE:\", mean_squared_error(y_test, y_pred))\n",
        "print(\"R2 Score:\", r2_score(y_test, y_pred))"
      ]
    }
  ],
  "metadata": {
    "colab": {
      "provenance": [],
      "include_colab_link": true
    }
  },
  "nbformat": 4,
  "nbformat_minor": 5
}